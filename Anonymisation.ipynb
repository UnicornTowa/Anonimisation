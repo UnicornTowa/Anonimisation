{
 "cells": [
  {
   "cell_type": "markdown",
   "source": [
    "# Dataset anonymization"
   ],
   "metadata": {
    "collapsed": false
   }
  },
  {
   "cell_type": "markdown",
   "source": [
    "##### Import lib for data-working"
   ],
   "metadata": {
    "collapsed": false
   }
  },
  {
   "cell_type": "code",
   "execution_count": 2,
   "outputs": [],
   "source": [
    "import pandas as pd"
   ],
   "metadata": {
    "collapsed": false
   }
  },
  {
   "cell_type": "markdown",
   "source": [
    "##### Read input file"
   ],
   "metadata": {
    "collapsed": false
   }
  },
  {
   "cell_type": "code",
   "execution_count": 3,
   "outputs": [],
   "source": [
    "filename = 'dataset1m.xlsx' # <- filename\n",
    "df = pd.read_excel(filename)"
   ],
   "metadata": {
    "collapsed": false
   }
  },
  {
   "cell_type": "markdown",
   "source": [
    "##### Flags"
   ],
   "metadata": {
    "collapsed": false
   }
  },
  {
   "cell_type": "code",
   "execution_count": 4,
   "outputs": [],
   "source": [
    "ANON_JOBS = True\n",
    "ANON_ADDRESS = True\n",
    "ANON_SALARY = True\n",
    "LOCAL_SUPRESS = True\n",
    "\n",
    "if LOCAL_SUPRESS:\n",
    "    REQUIRED_K_ANON = 5\n",
    "\n",
    "SAVE_ANON_FILE = False"
   ],
   "metadata": {
    "collapsed": false
   }
  },
  {
   "cell_type": "markdown",
   "source": [
    "##### Anonymization funcs"
   ],
   "metadata": {
    "collapsed": false
   }
  },
  {
   "cell_type": "code",
   "execution_count": 5,
   "id": "16e7eb43",
   "metadata": {
    "scrolled": true
   },
   "outputs": [],
   "source": [
    "# Salary anonymization\n",
    "def salary_local_generalization(x):\n",
    "    val = int(x)\n",
    "    if val > 100000:\n",
    "        return \"Very high\"\n",
    "    elif val > 75000:\n",
    "        return \"High\"\n",
    "    elif val > 55000:\n",
    "        return \"Mid\"\n",
    "    else:\n",
    "        return \"Low\"\n",
    "\n",
    "# Name anonymize\n",
    "def del_attrib(x):\n",
    "    return '***'\n",
    "\n",
    "# Address anonymize\n",
    "def addr_mask(x):\n",
    "    # all addresses contain \" д. \"\n",
    "    return str(x.split(\" д. \")[0]) + ' ***'\n",
    "\n",
    "# Job anonymize\n",
    "def job_local_generalization(x):\n",
    "    s = str(x)\n",
    "    if x == \"Административный директор\" or x == \"Директор по маркетингу\" or x == \"Финансовый директор\" or x == \"Генеральный директор\":\n",
    "        return \"Директор\"\n",
    "    elif x == \"Водитель\" or x == \"Комендант\" or x == \"Охранник\" or x == \"Уборщик\" or x == \"Секретарь\" or x == \"Бухгалтер\":\n",
    "        return \"Вспомогательный персонал\"\n",
    "    else:\n",
    "        return s\n",
    "\n",
    "# Phone anonymize\n",
    "def phone_local_generalization(x):\n",
    "    s = str(x)\n",
    "    if int(s[1:4]) in [929, 921, 931]:\n",
    "        return \"Megafon\"\n",
    "    elif int(s[1:4]) in [911, 981]:\n",
    "        return \"MTS\"\n",
    "    elif int(s[1:4]) in [961, 962, 963, 964, 903, 905, 906, 909, 960]:\n",
    "        return \"Beeline\"\n",
    "    elif int(s[1:4]) in [901, 952, 904, 950, 951]:\n",
    "        return \"Tele2\"\n",
    "\n",
    "if ANON_SALARY:\n",
    "    df[\"Заработная плата\"] = df[\"Заработная плата\"].apply(salary_local_generalization)\n",
    "\n",
    "# Direct identifier - always anonymize\n",
    "df[\"ФИО работника\"] = df[\"ФИО работника\"].apply(del_attrib)\n",
    "\n",
    "\n",
    "if ANON_ADDRESS:\n",
    "    df[\"Адрес работы\"] = df[\"Адрес работы\"].apply(addr_mask)\n",
    "\n",
    "if ANON_JOBS:\n",
    "    df[\"Должность\"] = df[\"Должность\"].apply(job_local_generalization)\n",
    "\n",
    "# Direct identifier - always anonymize\n",
    "df[\"Номер телефона\"] = df[\"Номер телефона\"].apply(phone_local_generalization)"
   ]
  },
  {
   "cell_type": "markdown",
   "source": [
    "#### Get dictionary [field : frequency] and k-anonymity"
   ],
   "metadata": {
    "collapsed": false
   }
  },
  {
   "cell_type": "code",
   "execution_count": 6,
   "id": "549a1193",
   "metadata": {},
   "outputs": [],
   "source": [
    "def get_dict_and_k_anonimity():\n",
    "    # my_dictionary is used to count k-anonymity\n",
    "    my_dictionary = {}\n",
    "    # key is concatenated row\n",
    "    def get_row_as_string(ind):\n",
    "        return str(df[\"ФИО работника\"].iloc[ind]) +\\\n",
    "               str(df[\"Номер телефона\"].iloc[ind]) +\\\n",
    "               str(df[\"Адрес работы\"].iloc[ind]) +\\\n",
    "               str(df[\"Должность\"].iloc[ind]) +\\\n",
    "               str(df[\"Заработная плата\"].iloc[ind])\n",
    "    for row in range(df.shape[0]):\n",
    "        s = get_row_as_string(row)\n",
    "        if s in my_dictionary:\n",
    "            my_dictionary[s] += 1\n",
    "        else:\n",
    "            my_dictionary[s] = 1\n",
    "    return my_dictionary, min(my_dictionary.values())"
   ]
  },
  {
   "cell_type": "markdown",
   "source": [
    "##### List of strings of each row"
   ],
   "metadata": {
    "collapsed": false
   }
  },
  {
   "cell_type": "code",
   "execution_count": 7,
   "outputs": [],
   "source": [
    "# return list of rows as single string\n",
    "strings = [''.join(val) for val in df.astype(str).values.tolist()]"
   ],
   "metadata": {
    "collapsed": false
   }
  },
  {
   "cell_type": "markdown",
   "source": [
    "#### Output before local suppression"
   ],
   "metadata": {
    "collapsed": false
   }
  },
  {
   "cell_type": "code",
   "execution_count": 8,
   "id": "7aba85d7",
   "metadata": {},
   "outputs": [
    {
     "name": "stdout",
     "output_type": "stream",
     "text": [
      "<class 'dict'>\n",
      "k-anonymity =  2\n",
      "<class 'list'>\n",
      "Unique rows: 4803\n",
      "5 least frequent rows:\n"
     ]
    },
    {
     "data": {
      "text/plain": "       ФИО работника Номер телефона               Адрес работы    Должность  \\\n641053           ***          Tele2  Обводного канала наб. ***  Программист   \n135729           ***          Tele2  Обводного канала наб. ***  Программист   \n64706            ***        Beeline       пр-кт Малый В.О. ***  Программист   \n111263           ***            MTS       пр-кт Малый В.О. ***  Программист   \n464525           ***        Beeline  Обводного канала наб. ***  Программист   \n\n       Заработная плата  \n641053             High  \n135729        Very high  \n64706         Very high  \n111263        Very high  \n464525        Very high  ",
      "text/html": "<div>\n<style scoped>\n    .dataframe tbody tr th:only-of-type {\n        vertical-align: middle;\n    }\n\n    .dataframe tbody tr th {\n        vertical-align: top;\n    }\n\n    .dataframe thead th {\n        text-align: right;\n    }\n</style>\n<table border=\"1\" class=\"dataframe\">\n  <thead>\n    <tr style=\"text-align: right;\">\n      <th></th>\n      <th>ФИО работника</th>\n      <th>Номер телефона</th>\n      <th>Адрес работы</th>\n      <th>Должность</th>\n      <th>Заработная плата</th>\n    </tr>\n  </thead>\n  <tbody>\n    <tr>\n      <th>641053</th>\n      <td>***</td>\n      <td>Tele2</td>\n      <td>Обводного канала наб. ***</td>\n      <td>Программист</td>\n      <td>High</td>\n    </tr>\n    <tr>\n      <th>135729</th>\n      <td>***</td>\n      <td>Tele2</td>\n      <td>Обводного канала наб. ***</td>\n      <td>Программист</td>\n      <td>Very high</td>\n    </tr>\n    <tr>\n      <th>64706</th>\n      <td>***</td>\n      <td>Beeline</td>\n      <td>пр-кт Малый В.О. ***</td>\n      <td>Программист</td>\n      <td>Very high</td>\n    </tr>\n    <tr>\n      <th>111263</th>\n      <td>***</td>\n      <td>MTS</td>\n      <td>пр-кт Малый В.О. ***</td>\n      <td>Программист</td>\n      <td>Very high</td>\n    </tr>\n    <tr>\n      <th>464525</th>\n      <td>***</td>\n      <td>Beeline</td>\n      <td>Обводного канала наб. ***</td>\n      <td>Программист</td>\n      <td>Very high</td>\n    </tr>\n  </tbody>\n</table>\n</div>"
     },
     "metadata": {},
     "output_type": "display_data"
    },
    {
     "name": "stdout",
     "output_type": "stream",
     "text": [
      "Frequencies :  [2, 4, 5, 5, 5]\n"
     ]
    }
   ],
   "source": [
    "mydict, k_anon = get_dict_and_k_anonimity()\n",
    "\n",
    "print(\"k-anonymity = \", k_anon)\n",
    "\n",
    "# sorted dictionary = list of tuples as [(key, value) for key,value in dict]\n",
    "sorted_mydict = sorted(mydict.items(), key=lambda x:x[1])\n",
    "print(\"Unique rows:\", len(mydict))\n",
    "print(\"5 least frequent rows:\")\n",
    "\n",
    "# line below extracts from dataframe 5 least frequent lines (because the corresponding keys are strings) and display them as dataframe\n",
    "display(df.loc[[strings.index(sorted_mydict[i][0]) for i in range(5)]])\n",
    "print(\"Frequencies : \", [sorted_mydict[i][1] for i in range(5)])"
   ]
  },
  {
   "cell_type": "markdown",
   "source": [
    "##### Local suppress"
   ],
   "metadata": {
    "collapsed": false
   }
  },
  {
   "cell_type": "code",
   "execution_count": 10,
   "id": "62536ca1",
   "metadata": {
    "scrolled": true
   },
   "outputs": [
    {
     "name": "stdout",
     "output_type": "stream",
     "text": [
      "6  lines need to be suppressed to meet all requirements\n"
     ]
    }
   ],
   "source": [
    "if LOCAL_SUPRESS:\n",
    "    forDelete = []\n",
    "\n",
    "    for index in range(df.shape[0]):\n",
    "        line = strings[index]\n",
    "        if mydict[line] < REQUIRED_K_ANON:\n",
    "            #print(line, \">>\", index)\n",
    "            forDelete.append(index)\n",
    "    print(len(forDelete), \" lines need to be suppressed to meet all requirements\")"
   ]
  },
  {
   "cell_type": "markdown",
   "source": [
    "#### Output after local suppress"
   ],
   "metadata": {
    "collapsed": false
   }
  },
  {
   "cell_type": "code",
   "execution_count": 11,
   "id": "625eea4b",
   "metadata": {},
   "outputs": [
    {
     "name": "stdout",
     "output_type": "stream",
     "text": [
      "New k-anon =  5\n",
      "New unique rows: 4801\n",
      "New 5 least frequent rows:\n"
     ]
    },
    {
     "data": {
      "text/plain": "       ФИО работника Номер телефона          Адрес работы    Должность  \\\n64706            ***        Beeline  пр-кт Малый В.О. ***  Программист   \n111263           ***            MTS  пр-кт Малый В.О. ***  Программист   \n464524           ***        Megafon     пр-кт Невский ***    Строитель   \n65407            ***          Tele2     ул. Разъезжая ***  Автослесарь   \n80577            ***          Tele2  ул. Потёмкинская ***  Программист   \n\n       Заработная плата  \n64706         Very high  \n111263        Very high  \n464524              Mid  \n65407               Mid  \n80577         Very high  ",
      "text/html": "<div>\n<style scoped>\n    .dataframe tbody tr th:only-of-type {\n        vertical-align: middle;\n    }\n\n    .dataframe tbody tr th {\n        vertical-align: top;\n    }\n\n    .dataframe thead th {\n        text-align: right;\n    }\n</style>\n<table border=\"1\" class=\"dataframe\">\n  <thead>\n    <tr style=\"text-align: right;\">\n      <th></th>\n      <th>ФИО работника</th>\n      <th>Номер телефона</th>\n      <th>Адрес работы</th>\n      <th>Должность</th>\n      <th>Заработная плата</th>\n    </tr>\n  </thead>\n  <tbody>\n    <tr>\n      <th>64706</th>\n      <td>***</td>\n      <td>Beeline</td>\n      <td>пр-кт Малый В.О. ***</td>\n      <td>Программист</td>\n      <td>Very high</td>\n    </tr>\n    <tr>\n      <th>111263</th>\n      <td>***</td>\n      <td>MTS</td>\n      <td>пр-кт Малый В.О. ***</td>\n      <td>Программист</td>\n      <td>Very high</td>\n    </tr>\n    <tr>\n      <th>464524</th>\n      <td>***</td>\n      <td>Megafon</td>\n      <td>пр-кт Невский ***</td>\n      <td>Строитель</td>\n      <td>Mid</td>\n    </tr>\n    <tr>\n      <th>65407</th>\n      <td>***</td>\n      <td>Tele2</td>\n      <td>ул. Разъезжая ***</td>\n      <td>Автослесарь</td>\n      <td>Mid</td>\n    </tr>\n    <tr>\n      <th>80577</th>\n      <td>***</td>\n      <td>Tele2</td>\n      <td>ул. Потёмкинская ***</td>\n      <td>Программист</td>\n      <td>Very high</td>\n    </tr>\n  </tbody>\n</table>\n</div>"
     },
     "metadata": {},
     "output_type": "display_data"
    },
    {
     "name": "stdout",
     "output_type": "stream",
     "text": [
      "Frequencies :  [5, 5, 5, 6, 6]\n"
     ]
    }
   ],
   "source": [
    "if LOCAL_SUPRESS:\n",
    "    df = df.drop(df.index[forDelete])\n",
    "    new_dict, new_k_anon = get_dict_and_k_anonimity()\n",
    "    print(\"New k-anon = \", new_k_anon)\n",
    "    print(\"New unique rows:\", len(new_dict))\n",
    "    sorted_new_dict = sorted(new_dict.items(), key=lambda x:x[1])\n",
    "    strings = [''.join(val) for val in df.astype(str).values.tolist()]\n",
    "    print(\"New 5 least frequent rows:\")\n",
    "    display(df.loc[[strings.index(sorted_new_dict[i][0]) for i in range(5)]])\n",
    "    print(\"Frequencies : \", [sorted_new_dict[i][1] for i in range(5)])"
   ]
  },
  {
   "cell_type": "markdown",
   "source": [
    "##### AVG k-anonymity calculation"
   ],
   "metadata": {
    "collapsed": false
   }
  },
  {
   "cell_type": "code",
   "execution_count": 12,
   "outputs": [
    {
     "name": "stdout",
     "output_type": "stream",
     "text": [
      "AVG k-anonymity =  207.79\n"
     ]
    }
   ],
   "source": [
    "sum_of_frequencies = 0\n",
    "def get_dict():\n",
    "    if LOCAL_SUPRESS:\n",
    "        return new_dict\n",
    "    else:\n",
    "        return mydict\n",
    "for key in get_dict():\n",
    "    sum_of_frequencies += get_dict()[key]\n",
    "print(\"AVG k-anonymity = \", round(sum_of_frequencies / len(get_dict()), 2))"
   ],
   "metadata": {
    "collapsed": false
   }
  },
  {
   "cell_type": "markdown",
   "source": [
    "#### Save anonymized dataset as .xlsx"
   ],
   "metadata": {
    "collapsed": false
   }
  },
  {
   "cell_type": "code",
   "execution_count": 80,
   "id": "785fc074",
   "metadata": {},
   "outputs": [],
   "source": [
    "path = filename.split('.')[0] + 'anonymized.xlsx'\n",
    "\n",
    "if SAVE_ANON_FILE:\n",
    "    df.to_excel(path, index = False)"
   ]
  }
 ],
 "metadata": {
  "kernelspec": {
   "display_name": "Python 3 (ipykernel)",
   "language": "python",
   "name": "python3"
  },
  "language_info": {
   "codemirror_mode": {
    "name": "ipython",
    "version": 3
   },
   "file_extension": ".py",
   "mimetype": "text/x-python",
   "name": "python",
   "nbconvert_exporter": "python",
   "pygments_lexer": "ipython3",
   "version": "3.9.12"
  }
 },
 "nbformat": 4,
 "nbformat_minor": 5
}
