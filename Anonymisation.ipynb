{
 "cells": [
  {
   "cell_type": "markdown",
   "source": [
    "# Dataset anonymization"
   ],
   "metadata": {
    "collapsed": false
   }
  },
  {
   "cell_type": "markdown",
   "source": [
    "##### Import lib for data-working"
   ],
   "metadata": {
    "collapsed": false
   }
  },
  {
   "cell_type": "code",
   "execution_count": 91,
   "outputs": [],
   "source": [
    "import pandas as pd"
   ],
   "metadata": {
    "collapsed": false
   }
  },
  {
   "cell_type": "markdown",
   "source": [
    "##### Read input file"
   ],
   "metadata": {
    "collapsed": false
   }
  },
  {
   "cell_type": "code",
   "execution_count": 92,
   "outputs": [],
   "source": [
    "filename = 'dataset259999.xlsx' # <- filename\n",
    "df = pd.read_excel(filename)"
   ],
   "metadata": {
    "collapsed": false
   }
  },
  {
   "cell_type": "markdown",
   "source": [
    "##### Flags"
   ],
   "metadata": {
    "collapsed": false
   }
  },
  {
   "cell_type": "code",
   "execution_count": 93,
   "outputs": [],
   "source": [
    "ANON_JOBS = True\n",
    "ANON_ADDRESS = True\n",
    "ANON_SALARY = True\n",
    "LOCAL_SUPRESS = True\n",
    "\n",
    "if LOCAL_SUPRESS:\n",
    "    REQUIRED_K_ANON = 5\n",
    "\n",
    "SAVE_ANON_FILE = False"
   ],
   "metadata": {
    "collapsed": false
   }
  },
  {
   "cell_type": "markdown",
   "source": [
    "##### Anonymization funcs"
   ],
   "metadata": {
    "collapsed": false
   }
  },
  {
   "cell_type": "code",
   "execution_count": 94,
   "id": "16e7eb43",
   "metadata": {
    "scrolled": true
   },
   "outputs": [],
   "source": [
    "# Salary anonymization\n",
    "def salary_local_generalization(x):\n",
    "    val = int(x)\n",
    "    if val > 100000:\n",
    "        return \"Very high\"\n",
    "    elif val > 75000:\n",
    "        return \"High\"\n",
    "    elif val > 35000:\n",
    "        return \"Mid\"\n",
    "    else:\n",
    "        return \"Low\"\n",
    "\n",
    "# Name anonymize\n",
    "def del_attrib(x):\n",
    "    return '***'\n",
    "\n",
    "# Address anonymize\n",
    "def addr_mask(x):\n",
    "    # all addresses contain \" д. \"\n",
    "    return str(x.split(\" д. \")[0]) + ' ***'\n",
    "\n",
    "# Job anonymize\n",
    "def job_local_generalization(x):\n",
    "    s = str(x)\n",
    "    if x == \"Административный директор\" or x == \"Директор по маркетингу\" or x == \"Финансовый директор\" or x == \"Генеральный директор\":\n",
    "        return \"Директор\"\n",
    "    elif x == \"Водитель\" or x == \"Комендант\" or x == \"Охранник\" or x == \"Уборщик\" or x == \"Секретарь\" or x == \"Бухгалтер\":\n",
    "        return \"Вспомогательный персонал\"\n",
    "    else:\n",
    "        return s\n",
    "\n",
    "# Phone anonymize\n",
    "def phone_local_generalization(x):\n",
    "    s = str(x)\n",
    "    if int(s[1:4]) in [929, 921, 931]:\n",
    "        return \"Megafon\"\n",
    "    elif int(s[1:4]) in [911, 981]:\n",
    "        return \"MTS\"\n",
    "    elif int(s[1:4]) in [961, 962, 963, 964, 903, 905, 906, 909, 960]:\n",
    "        return \"Beeline\"\n",
    "    elif int(s[1:4]) in [901, 952, 904, 950, 951]:\n",
    "        return \"Tele2\"\n",
    "\n",
    "if ANON_SALARY:\n",
    "    df[\"Заработная плата\"] = df[\"Заработная плата\"].apply(salary_local_generalization)\n",
    "\n",
    "# Direct identifier - always anonymize\n",
    "df[\"ФИО работника\"] = df[\"ФИО работника\"].apply(del_attrib)\n",
    "\n",
    "\n",
    "if ANON_ADDRESS:\n",
    "    df[\"Адрес работы\"] = df[\"Адрес работы\"].apply(addr_mask)\n",
    "\n",
    "if ANON_JOBS:\n",
    "    df[\"Должность\"] = df[\"Должность\"].apply(job_local_generalization)\n",
    "\n",
    "# Direct identifier - always anonymize\n",
    "df[\"Номер телефона\"] = df[\"Номер телефона\"].apply(phone_local_generalization)"
   ]
  },
  {
   "cell_type": "markdown",
   "source": [
    "#### Get dictionary [field : frequency] and k-anonymity"
   ],
   "metadata": {
    "collapsed": false
   }
  },
  {
   "cell_type": "code",
   "execution_count": 95,
   "id": "549a1193",
   "metadata": {},
   "outputs": [],
   "source": [
    "def get_dict_and_k_anonimity():\n",
    "    # my_dictionary is used to count k-anonymity\n",
    "    my_dictionary = {}\n",
    "    # key is concatenated row\n",
    "    def get_row_as_string(ind):\n",
    "        return str(df[\"ФИО работника\"].iloc[ind]) +\\\n",
    "               str(df[\"Номер телефона\"].iloc[ind]) +\\\n",
    "               str(df[\"Адрес работы\"].iloc[ind]) +\\\n",
    "               str(df[\"Должность\"].iloc[ind]) +\\\n",
    "               str(df[\"Заработная плата\"].iloc[ind])\n",
    "    for row in range(df.shape[0]):\n",
    "        s = get_row_as_string(row)\n",
    "        if s in my_dictionary:\n",
    "            my_dictionary[s] += 1\n",
    "        else:\n",
    "            my_dictionary[s] = 1\n",
    "    return my_dictionary, min(my_dictionary.values())"
   ]
  },
  {
   "cell_type": "markdown",
   "source": [
    "##### List of strings of each row"
   ],
   "metadata": {
    "collapsed": false
   }
  },
  {
   "cell_type": "code",
   "execution_count": 96,
   "outputs": [],
   "source": [
    "# return list of rows as single string\n",
    "strings = [''.join(val) for val in df.astype(str).values.tolist()]"
   ],
   "metadata": {
    "collapsed": false
   }
  },
  {
   "cell_type": "markdown",
   "source": [
    "#### Output before local suppression"
   ],
   "metadata": {
    "collapsed": false
   }
  },
  {
   "cell_type": "code",
   "execution_count": 97,
   "id": "7aba85d7",
   "metadata": {},
   "outputs": [
    {
     "name": "stdout",
     "output_type": "stream",
     "text": [
      "k-anonymity =  1\n",
      "Unique rows: 5808\n",
      "5 least frequent rows:\n"
     ]
    },
    {
     "data": {
      "text/plain": "      ФИО работника Номер телефона            Адрес работы    Должность  \\\n9030            ***        Beeline  пр-кт Владимирский ***  Программист   \n13287           ***          Tele2  пр-кт Большой В.О. ***        Повар   \n13416           ***          Tele2          ул. Правды ***  Программист   \n14396           ***          Tele2     ул. Фурштатская ***  Программист   \n26407           ***        Beeline     ул. Фурштатская ***  Программист   \n\n      Заработная плата  \n9030         Very high  \n13287              Mid  \n13416        Very high  \n14396        Very high  \n26407             High  ",
      "text/html": "<div>\n<style scoped>\n    .dataframe tbody tr th:only-of-type {\n        vertical-align: middle;\n    }\n\n    .dataframe tbody tr th {\n        vertical-align: top;\n    }\n\n    .dataframe thead th {\n        text-align: right;\n    }\n</style>\n<table border=\"1\" class=\"dataframe\">\n  <thead>\n    <tr style=\"text-align: right;\">\n      <th></th>\n      <th>ФИО работника</th>\n      <th>Номер телефона</th>\n      <th>Адрес работы</th>\n      <th>Должность</th>\n      <th>Заработная плата</th>\n    </tr>\n  </thead>\n  <tbody>\n    <tr>\n      <th>9030</th>\n      <td>***</td>\n      <td>Beeline</td>\n      <td>пр-кт Владимирский ***</td>\n      <td>Программист</td>\n      <td>Very high</td>\n    </tr>\n    <tr>\n      <th>13287</th>\n      <td>***</td>\n      <td>Tele2</td>\n      <td>пр-кт Большой В.О. ***</td>\n      <td>Повар</td>\n      <td>Mid</td>\n    </tr>\n    <tr>\n      <th>13416</th>\n      <td>***</td>\n      <td>Tele2</td>\n      <td>ул. Правды ***</td>\n      <td>Программист</td>\n      <td>Very high</td>\n    </tr>\n    <tr>\n      <th>14396</th>\n      <td>***</td>\n      <td>Tele2</td>\n      <td>ул. Фурштатская ***</td>\n      <td>Программист</td>\n      <td>Very high</td>\n    </tr>\n    <tr>\n      <th>26407</th>\n      <td>***</td>\n      <td>Beeline</td>\n      <td>ул. Фурштатская ***</td>\n      <td>Программист</td>\n      <td>High</td>\n    </tr>\n  </tbody>\n</table>\n</div>"
     },
     "metadata": {},
     "output_type": "display_data"
    },
    {
     "name": "stdout",
     "output_type": "stream",
     "text": [
      "Frequencies :  [1, 1, 1, 1, 1]\n"
     ]
    }
   ],
   "source": [
    "mydict, k_anon = get_dict_and_k_anonimity()\n",
    "\n",
    "print(\"k-anonymity = \", k_anon)\n",
    "\n",
    "# sorted dictionary = list of tuples as [(key, value) for key,value in dict]\n",
    "sorted_mydict = sorted(mydict.items(), key=lambda x:x[1])\n",
    "print(\"Unique rows:\", len(mydict))\n",
    "print(\"5 least frequent rows:\")\n",
    "\n",
    "# line below extracts from dataframe 5 least frequent lines (because the corresponding keys are strings) and display them as dataframe\n",
    "display(df.loc[[strings.index(sorted_mydict[i][0]) for i in range(5)]])\n",
    "print(\"Frequencies : \", [sorted_mydict[i][1] for i in range(5)])"
   ]
  },
  {
   "cell_type": "markdown",
   "source": [
    "##### Local suppress"
   ],
   "metadata": {
    "collapsed": false
   }
  },
  {
   "cell_type": "code",
   "execution_count": 98,
   "id": "62536ca1",
   "metadata": {
    "scrolled": true
   },
   "outputs": [
    {
     "name": "stdout",
     "output_type": "stream",
     "text": [
      "597  lines need to be suppressed to meet all requirements\n"
     ]
    }
   ],
   "source": [
    "if LOCAL_SUPRESS:\n",
    "    forDelete = []\n",
    "\n",
    "    for index in range(df.shape[0]):\n",
    "        line = strings[index]\n",
    "        if mydict[line] < REQUIRED_K_ANON:\n",
    "            #print(line, \">>\", index)\n",
    "            forDelete.append(index)\n",
    "    print(len(forDelete), \" lines need to be suppressed to meet all requirements\")"
   ]
  },
  {
   "cell_type": "markdown",
   "source": [
    "#### Output after local suppress"
   ],
   "metadata": {
    "collapsed": false
   }
  },
  {
   "cell_type": "code",
   "execution_count": 99,
   "id": "625eea4b",
   "metadata": {},
   "outputs": [
    {
     "name": "stdout",
     "output_type": "stream",
     "text": [
      "New k-anon =  5\n",
      "New unique rows: 5607\n",
      "New 5 least frequent rows:\n"
     ]
    },
    {
     "data": {
      "text/plain": "     ФИО работника Номер телефона              Адрес работы  \\\n2015           ***        Megafon       17-я В.О. линия ***   \n2371           ***        Megafon  ул. Социалистическая ***   \n3844           ***        Megafon     Транспортный пер. ***   \n3907           ***        Megafon           ул. Камская ***   \n4173           ***            MTS        3-я В.О. линия ***   \n\n                     Должность Заработная плата  \n2015  Вспомогательный персонал              Mid  \n2371                      Врач              Mid  \n3844                  Продавец              Low  \n3907                  Менеджер              Mid  \n4173                  Менеджер              Mid  ",
      "text/html": "<div>\n<style scoped>\n    .dataframe tbody tr th:only-of-type {\n        vertical-align: middle;\n    }\n\n    .dataframe tbody tr th {\n        vertical-align: top;\n    }\n\n    .dataframe thead th {\n        text-align: right;\n    }\n</style>\n<table border=\"1\" class=\"dataframe\">\n  <thead>\n    <tr style=\"text-align: right;\">\n      <th></th>\n      <th>ФИО работника</th>\n      <th>Номер телефона</th>\n      <th>Адрес работы</th>\n      <th>Должность</th>\n      <th>Заработная плата</th>\n    </tr>\n  </thead>\n  <tbody>\n    <tr>\n      <th>2015</th>\n      <td>***</td>\n      <td>Megafon</td>\n      <td>17-я В.О. линия ***</td>\n      <td>Вспомогательный персонал</td>\n      <td>Mid</td>\n    </tr>\n    <tr>\n      <th>2371</th>\n      <td>***</td>\n      <td>Megafon</td>\n      <td>ул. Социалистическая ***</td>\n      <td>Врач</td>\n      <td>Mid</td>\n    </tr>\n    <tr>\n      <th>3844</th>\n      <td>***</td>\n      <td>Megafon</td>\n      <td>Транспортный пер. ***</td>\n      <td>Продавец</td>\n      <td>Low</td>\n    </tr>\n    <tr>\n      <th>3907</th>\n      <td>***</td>\n      <td>Megafon</td>\n      <td>ул. Камская ***</td>\n      <td>Менеджер</td>\n      <td>Mid</td>\n    </tr>\n    <tr>\n      <th>4173</th>\n      <td>***</td>\n      <td>MTS</td>\n      <td>3-я В.О. линия ***</td>\n      <td>Менеджер</td>\n      <td>Mid</td>\n    </tr>\n  </tbody>\n</table>\n</div>"
     },
     "metadata": {},
     "output_type": "display_data"
    },
    {
     "name": "stdout",
     "output_type": "stream",
     "text": [
      "Frequencies :  [5, 5, 5, 5, 5]\n"
     ]
    }
   ],
   "source": [
    "if LOCAL_SUPRESS:\n",
    "    df = df.drop(df.index[forDelete])\n",
    "    new_dict, new_k_anon = get_dict_and_k_anonimity()\n",
    "    print(\"New k-anon = \", new_k_anon)\n",
    "    print(\"New unique rows:\", len(new_dict))\n",
    "    sorted_new_dict = sorted(new_dict.items(), key=lambda x:x[1])\n",
    "    strings = [''.join(val) for val in df.astype(str).values.tolist()]\n",
    "    print(\"New 5 least frequent rows:\")\n",
    "    display(df.loc[[strings.index(sorted_new_dict[i][0]) for i in range(5)]])\n",
    "    print(\"Frequencies : \", [sorted_new_dict[i][1] for i in range(5)])"
   ]
  },
  {
   "cell_type": "markdown",
   "source": [
    "##### AVG k-anonymity calculation"
   ],
   "metadata": {
    "collapsed": false
   }
  },
  {
   "cell_type": "code",
   "execution_count": 100,
   "outputs": [
    {
     "name": "stdout",
     "output_type": "stream",
     "text": [
      "AVG k-anonymity =  46.26\n"
     ]
    }
   ],
   "source": [
    "sum_of_frequencies = 0\n",
    "def get_dict():\n",
    "    if LOCAL_SUPRESS:\n",
    "        return new_dict\n",
    "    else:\n",
    "        return mydict\n",
    "for key in get_dict():\n",
    "    sum_of_frequencies += get_dict()[key]\n",
    "print(\"AVG k-anonymity = \", round(sum_of_frequencies / len(get_dict()), 2))"
   ],
   "metadata": {
    "collapsed": false
   }
  },
  {
   "cell_type": "markdown",
   "source": [
    "### Anonimyzed dataset"
   ],
   "metadata": {
    "collapsed": false
   }
  },
  {
   "cell_type": "code",
   "execution_count": 101,
   "outputs": [
    {
     "data": {
      "text/plain": "       ФИО работника Номер телефона                   Адрес работы  \\\n0                ***        Megafon            ул. Чайковского ***   \n1                ***        Beeline         пр-кт Владимирский ***   \n2                ***            MTS            ул. Чайковского ***   \n3                ***            MTS         Павлоградский пер. ***   \n4                ***          Tele2                 ул. Марата ***   \n...              ...            ...                            ...   \n259994           ***            MTS         пр-кт Большой В.О. ***   \n259995           ***        Megafon  ул. Константина Заслонова ***   \n259996           ***        Megafon         Павлоградский пер. ***   \n259997           ***            MTS           пр-кт Загородный ***   \n259998           ***        Beeline             ул. Стремянная ***   \n\n                       Должность Заработная плата  \n0                       Директор             High  \n1                       Директор             High  \n2                       Директор             High  \n3                       Директор             High  \n4                       Директор             High  \n...                          ...              ...  \n259994                  Менеджер              Mid  \n259995                   Инженер              Low  \n259996                  Директор             High  \n259997                  Менеджер              Mid  \n259998  Вспомогательный персонал              Mid  \n\n[259402 rows x 5 columns]",
      "text/html": "<div>\n<style scoped>\n    .dataframe tbody tr th:only-of-type {\n        vertical-align: middle;\n    }\n\n    .dataframe tbody tr th {\n        vertical-align: top;\n    }\n\n    .dataframe thead th {\n        text-align: right;\n    }\n</style>\n<table border=\"1\" class=\"dataframe\">\n  <thead>\n    <tr style=\"text-align: right;\">\n      <th></th>\n      <th>ФИО работника</th>\n      <th>Номер телефона</th>\n      <th>Адрес работы</th>\n      <th>Должность</th>\n      <th>Заработная плата</th>\n    </tr>\n  </thead>\n  <tbody>\n    <tr>\n      <th>0</th>\n      <td>***</td>\n      <td>Megafon</td>\n      <td>ул. Чайковского ***</td>\n      <td>Директор</td>\n      <td>High</td>\n    </tr>\n    <tr>\n      <th>1</th>\n      <td>***</td>\n      <td>Beeline</td>\n      <td>пр-кт Владимирский ***</td>\n      <td>Директор</td>\n      <td>High</td>\n    </tr>\n    <tr>\n      <th>2</th>\n      <td>***</td>\n      <td>MTS</td>\n      <td>ул. Чайковского ***</td>\n      <td>Директор</td>\n      <td>High</td>\n    </tr>\n    <tr>\n      <th>3</th>\n      <td>***</td>\n      <td>MTS</td>\n      <td>Павлоградский пер. ***</td>\n      <td>Директор</td>\n      <td>High</td>\n    </tr>\n    <tr>\n      <th>4</th>\n      <td>***</td>\n      <td>Tele2</td>\n      <td>ул. Марата ***</td>\n      <td>Директор</td>\n      <td>High</td>\n    </tr>\n    <tr>\n      <th>...</th>\n      <td>...</td>\n      <td>...</td>\n      <td>...</td>\n      <td>...</td>\n      <td>...</td>\n    </tr>\n    <tr>\n      <th>259994</th>\n      <td>***</td>\n      <td>MTS</td>\n      <td>пр-кт Большой В.О. ***</td>\n      <td>Менеджер</td>\n      <td>Mid</td>\n    </tr>\n    <tr>\n      <th>259995</th>\n      <td>***</td>\n      <td>Megafon</td>\n      <td>ул. Константина Заслонова ***</td>\n      <td>Инженер</td>\n      <td>Low</td>\n    </tr>\n    <tr>\n      <th>259996</th>\n      <td>***</td>\n      <td>Megafon</td>\n      <td>Павлоградский пер. ***</td>\n      <td>Директор</td>\n      <td>High</td>\n    </tr>\n    <tr>\n      <th>259997</th>\n      <td>***</td>\n      <td>MTS</td>\n      <td>пр-кт Загородный ***</td>\n      <td>Менеджер</td>\n      <td>Mid</td>\n    </tr>\n    <tr>\n      <th>259998</th>\n      <td>***</td>\n      <td>Beeline</td>\n      <td>ул. Стремянная ***</td>\n      <td>Вспомогательный персонал</td>\n      <td>Mid</td>\n    </tr>\n  </tbody>\n</table>\n<p>259402 rows × 5 columns</p>\n</div>"
     },
     "execution_count": 101,
     "metadata": {},
     "output_type": "execute_result"
    }
   ],
   "source": [
    "df"
   ],
   "metadata": {
    "collapsed": false
   }
  },
  {
   "cell_type": "markdown",
   "source": [
    "#### Save anonymized dataset as .xlsx"
   ],
   "metadata": {
    "collapsed": false
   }
  },
  {
   "cell_type": "code",
   "execution_count": 102,
   "id": "785fc074",
   "metadata": {},
   "outputs": [],
   "source": [
    "path = filename.split('.')[0] + 'anonymized.xlsx'\n",
    "\n",
    "if SAVE_ANON_FILE:\n",
    "    df.to_excel(path, index = False)"
   ]
  },
  {
   "cell_type": "code",
   "execution_count": 102,
   "outputs": [],
   "source": [],
   "metadata": {
    "collapsed": false
   }
  }
 ],
 "metadata": {
  "kernelspec": {
   "display_name": "Python 3 (ipykernel)",
   "language": "python",
   "name": "python3"
  },
  "language_info": {
   "codemirror_mode": {
    "name": "ipython",
    "version": 3
   },
   "file_extension": ".py",
   "mimetype": "text/x-python",
   "name": "python",
   "nbconvert_exporter": "python",
   "pygments_lexer": "ipython3",
   "version": "3.9.12"
  }
 },
 "nbformat": 4,
 "nbformat_minor": 5
}
