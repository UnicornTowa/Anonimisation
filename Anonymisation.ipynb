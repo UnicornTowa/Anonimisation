{
 "cells": [
  {
   "cell_type": "code",
   "execution_count": 17,
   "id": "f9a2a588",
   "metadata": {},
   "outputs": [],
   "source": [
    "import pandas as pd"
   ]
  },
  {
   "cell_type": "code",
   "execution_count": 18,
   "id": "5abb7e94",
   "metadata": {},
   "outputs": [],
   "source": [
    "filename = 'dataset1m.xlsx'# <- filename\n",
    "df = pd.read_excel(filename)"
   ]
  },
  {
   "cell_type": "code",
   "execution_count": 33,
   "id": "a4e11661",
   "metadata": {},
   "outputs": [],
   "source": [
    "# Flags\n",
    "ANON_JOBS = True\n",
    "ANON_ADDRESS = True\n",
    "ANON_SALARY = True\n",
    "LOCAL_SUPRESS = True\n",
    "\n",
    "if LOCAL_SUPRESS:\n",
    "    REQUIRED_K_ANON = 5\n",
    "\n",
    "SAVE_ANON_FILE = False"
   ]
  },
  {
   "cell_type": "code",
   "execution_count": 20,
   "id": "16e7eb43",
   "metadata": {
    "scrolled": true
   },
   "outputs": [],
   "source": [
    "def salary_local_generalization(x):\n",
    "    val = int(x)\n",
    "    if val > 100000:\n",
    "        return \"Very high\"\n",
    "    elif val > 75000:\n",
    "        return \"High\"\n",
    "    elif val > 55000:\n",
    "        return \"Mid\"\n",
    "    else:\n",
    "        return \"Low\"\n",
    "def del_col(x):\n",
    "    return '***'\n",
    "def addr_mask(x):\n",
    "    return str(x.split(\" д. \")[0]) + ' ***'\n",
    "if ANON_SALARY:\n",
    "    df[\"Заработная плата\"] = df[\"Заработная плата\"].apply(salary_local_generalization)\n",
    "\n",
    "# Прямой идентефикатор - всегда анонимизируем\n",
    "df[\"ФИО работника\"] = df[\"ФИО работника\"].apply(del_col)\n",
    "\n",
    "\n",
    "if ANON_ADDRESS:\n",
    "    df[\"Адрес работы\"] = df[\"Адрес работы\"].apply(addr_mask)"
   ]
  },
  {
   "cell_type": "code",
   "execution_count": 21,
   "id": "69e5a307",
   "metadata": {},
   "outputs": [],
   "source": [
    "def job_local_generalization(x):\n",
    "    s = str(x)\n",
    "    if x == \"Административный директор\" or x == \"Директор по маркетингу\" or x == \"Финансовый директор\" or x == \"Генеральный директор\":\n",
    "        return \"Директор\"\n",
    "    elif x == \"Водитель\" or x == \"Комендант\" or x == \"Охранник\" or x == \"Уборщик\" or x == \"Секретарь\" or x == \"Бухгалтер\":\n",
    "        return \"Вспомогательный персонал\"\n",
    "    else:\n",
    "        return s\n",
    "\n",
    "if ANON_JOBS:\n",
    "    df[\"Должность\"] = df[\"Должность\"].apply(job_local_generalization)"
   ]
  },
  {
   "cell_type": "code",
   "execution_count": 22,
   "id": "41d039f3",
   "metadata": {
    "scrolled": false
   },
   "outputs": [],
   "source": [
    "def phone_local_generalization(x):\n",
    "    s = str(x)\n",
    "    if s == \"*\":\n",
    "        return s\n",
    "    elif int(s[1:4]) in [929, 921, 931]:\n",
    "        return \"Megafon\"\n",
    "    elif int(s[1:4]) in [911, 981]:\n",
    "        return \"MTS\"\n",
    "    elif int(s[1:4]) in [961, 962, 963, 964, 903, 905, 906, 909, 960]:\n",
    "        return \"Beeline\"\n",
    "    elif int(s[1:4]) in [901, 952, 904, 950, 951]:\n",
    "        return \"Tele2\"\n",
    "\n",
    "# Прямой идентефикатор - всега анонимизируем\n",
    "df[\"Номер телефона\"] = df[\"Номер телефона\"].apply(phone_local_generalization)"
   ]
  },
  {
   "cell_type": "code",
   "execution_count": 23,
   "id": "549a1193",
   "metadata": {},
   "outputs": [],
   "source": [
    "def get_dict_and_k_anonimity():\n",
    "    mydictionary = {}\n",
    "    def getstrline(ind):\n",
    "        return str(df[\"ФИО работника\"].iloc[ind]) + str(df[\"Номер телефона\"].iloc[ind]) + str(df[\"Адрес работы\"].iloc[ind]) + str(df[\"Должность\"].iloc[ind]) + str(df[\"Заработная плата\"].iloc[ind])\n",
    "    for row in range(df.shape[0]):\n",
    "        s = getstrline(row)\n",
    "        if s in mydictionary:\n",
    "            mydictionary[s] += 1\n",
    "        else:\n",
    "            mydictionary[s] = 1\n",
    "    return mydictionary, min(mydictionary.values())"
   ]
  },
  {
   "cell_type": "code",
   "execution_count": 24,
   "id": "7aba85d7",
   "metadata": {},
   "outputs": [
    {
     "name": "stdout",
     "output_type": "stream",
     "text": [
      "BEFORE LOCAL SUPPRESSION\n",
      "K-anon =  2\n"
     ]
    }
   ],
   "source": [
    "print(\"BEFORE LOCAL SUPPRESSION\")\n",
    "mydict, k_anon = get_dict_and_k_anonimity()\n",
    "print(\"K-anon = \", k_anon)"
   ]
  },
  {
   "cell_type": "code",
   "execution_count": 25,
   "id": "5d7cb716",
   "metadata": {},
   "outputs": [
    {
     "name": "stdout",
     "output_type": "stream",
     "text": [
      "Unique rows: 4803\n",
      "5 least frequent rows:\n",
      "('***Tele2Обводного канала наб. ***ПрограммистHigh', 2)\n",
      "('***Tele2Обводного канала наб. ***ПрограммистVery high', 4)\n",
      "('***Beelineпр-кт Малый В.О. ***ПрограммистVery high', 5)\n",
      "('***MTSпр-кт Малый В.О. ***ПрограммистVery high', 5)\n",
      "('***BeelineОбводного канала наб. ***ПрограммистVery high', 5)\n"
     ]
    }
   ],
   "source": [
    "sorted_mydict = sorted(mydict.items(), key=lambda x:x[1])\n",
    "\n",
    "print(\"Unique rows:\", len(mydict))\n",
    "print(\"5 least frequent rows:\")\n",
    "for i in range(5):\n",
    "    print(sorted_mydict[i])"
   ]
  },
  {
   "cell_type": "code",
   "execution_count": 26,
   "outputs": [
    {
     "data": {
      "text/plain": "       ФИО работника Номер телефона            Адрес работы    Должность  \\\n0                ***        Megafon     ул. Чайковского ***     Директор   \n1                ***        Beeline  пр-кт Владимирский ***     Директор   \n2                ***            MTS     ул. Чайковского ***     Директор   \n3                ***            MTS  Павлоградский пер. ***     Директор   \n4                ***          Tele2          ул. Марата ***     Директор   \n...              ...            ...                     ...          ...   \n997594           ***        Beeline      пр-кт Литейный ***     Директор   \n997595           ***        Beeline    ул. Захарьевская ***     Директор   \n997596           ***        Megafon        Свечной пер. ***     Менеджер   \n997597           ***            MTS  пр-кт Средний В.О. ***     Менеджер   \n997598           ***        Megafon      5-я В.О. линия ***  Программист   \n\n       Заработная плата  \n0                  High  \n1                  High  \n2                  High  \n3                  High  \n4                  High  \n...                 ...  \n997594             High  \n997595             High  \n997596              Low  \n997597              Low  \n997598              Low  \n\n[997599 rows x 5 columns]",
      "text/html": "<div>\n<style scoped>\n    .dataframe tbody tr th:only-of-type {\n        vertical-align: middle;\n    }\n\n    .dataframe tbody tr th {\n        vertical-align: top;\n    }\n\n    .dataframe thead th {\n        text-align: right;\n    }\n</style>\n<table border=\"1\" class=\"dataframe\">\n  <thead>\n    <tr style=\"text-align: right;\">\n      <th></th>\n      <th>ФИО работника</th>\n      <th>Номер телефона</th>\n      <th>Адрес работы</th>\n      <th>Должность</th>\n      <th>Заработная плата</th>\n    </tr>\n  </thead>\n  <tbody>\n    <tr>\n      <th>0</th>\n      <td>***</td>\n      <td>Megafon</td>\n      <td>ул. Чайковского ***</td>\n      <td>Директор</td>\n      <td>High</td>\n    </tr>\n    <tr>\n      <th>1</th>\n      <td>***</td>\n      <td>Beeline</td>\n      <td>пр-кт Владимирский ***</td>\n      <td>Директор</td>\n      <td>High</td>\n    </tr>\n    <tr>\n      <th>2</th>\n      <td>***</td>\n      <td>MTS</td>\n      <td>ул. Чайковского ***</td>\n      <td>Директор</td>\n      <td>High</td>\n    </tr>\n    <tr>\n      <th>3</th>\n      <td>***</td>\n      <td>MTS</td>\n      <td>Павлоградский пер. ***</td>\n      <td>Директор</td>\n      <td>High</td>\n    </tr>\n    <tr>\n      <th>4</th>\n      <td>***</td>\n      <td>Tele2</td>\n      <td>ул. Марата ***</td>\n      <td>Директор</td>\n      <td>High</td>\n    </tr>\n    <tr>\n      <th>...</th>\n      <td>...</td>\n      <td>...</td>\n      <td>...</td>\n      <td>...</td>\n      <td>...</td>\n    </tr>\n    <tr>\n      <th>997594</th>\n      <td>***</td>\n      <td>Beeline</td>\n      <td>пр-кт Литейный ***</td>\n      <td>Директор</td>\n      <td>High</td>\n    </tr>\n    <tr>\n      <th>997595</th>\n      <td>***</td>\n      <td>Beeline</td>\n      <td>ул. Захарьевская ***</td>\n      <td>Директор</td>\n      <td>High</td>\n    </tr>\n    <tr>\n      <th>997596</th>\n      <td>***</td>\n      <td>Megafon</td>\n      <td>Свечной пер. ***</td>\n      <td>Менеджер</td>\n      <td>Low</td>\n    </tr>\n    <tr>\n      <th>997597</th>\n      <td>***</td>\n      <td>MTS</td>\n      <td>пр-кт Средний В.О. ***</td>\n      <td>Менеджер</td>\n      <td>Low</td>\n    </tr>\n    <tr>\n      <th>997598</th>\n      <td>***</td>\n      <td>Megafon</td>\n      <td>5-я В.О. линия ***</td>\n      <td>Программист</td>\n      <td>Low</td>\n    </tr>\n  </tbody>\n</table>\n<p>997599 rows × 5 columns</p>\n</div>"
     },
     "execution_count": 26,
     "metadata": {},
     "output_type": "execute_result"
    }
   ],
   "source": [
    "df"
   ],
   "metadata": {
    "collapsed": false
   }
  },
  {
   "cell_type": "code",
   "execution_count": 27,
   "id": "62536ca1",
   "metadata": {
    "scrolled": true
   },
   "outputs": [
    {
     "name": "stdout",
     "output_type": "stream",
     "text": [
      "6  lines need to be suppressed to meet all requirements\n"
     ]
    }
   ],
   "source": [
    "r = [''.join(val) for val in df.astype(str).values.tolist()]\n",
    "\n",
    "index = 0\n",
    "forDelete = []\n",
    "\n",
    "for index in range(df.shape[0]):\n",
    "    line = r[index]\n",
    "    if mydict[line] < REQUIRED_K_ANON:\n",
    "        #print(line, \">>\", index)\n",
    "        forDelete.append(index)\n",
    "    index+=1\n",
    "print(len(forDelete), \" lines need to be suppressed to meet all requirements\")"
   ]
  },
  {
   "cell_type": "code",
   "execution_count": 28,
   "id": "625eea4b",
   "metadata": {},
   "outputs": [
    {
     "name": "stdout",
     "output_type": "stream",
     "text": [
      "AFTER LOCAL SUPPRESSION\n",
      "New k-anon =  5\n",
      "New unique rows: 4801\n",
      "New 5 least frequent rows:\n",
      "('***Beelineпр-кт Малый В.О. ***ПрограммистVery high', 5)\n",
      "('***MTSпр-кт Малый В.О. ***ПрограммистVery high', 5)\n",
      "('***BeelineОбводного канала наб. ***ПрограммистVery high', 5)\n",
      "('***Tele2ул. Разъезжая ***АвтослесарьMid', 6)\n",
      "('***Tele2ул. Потёмкинская ***ПрограммистVery high', 6)\n"
     ]
    }
   ],
   "source": [
    "if LOCAL_SUPRESS:\n",
    "    print(\"AFTER LOCAL SUPPRESSION\")\n",
    "    df = df.drop(df.index[forDelete])\n",
    "    new_dict, new_k_anon = get_dict_and_k_anonimity()\n",
    "    print(\"New k-anon = \", new_k_anon)\n",
    "    print(\"New unique rows:\", len(new_dict))\n",
    "    sorted_new_dict = sorted(new_dict.items(), key=lambda x:x[1])\n",
    "    print(\"New 5 least frequent rows:\")\n",
    "    for i in range(5):\n",
    "        print(sorted_new_dict[i])"
   ]
  },
  {
   "cell_type": "code",
   "execution_count": 34,
   "outputs": [
    {
     "name": "stdout",
     "output_type": "stream",
     "text": [
      "AVG K-anon =  207.79\n"
     ]
    }
   ],
   "source": [
    "sum_of_frequencies = 0\n",
    "def get_dict():\n",
    "    if LOCAL_SUPRESS:\n",
    "        return new_dict\n",
    "    else:\n",
    "        return mydict\n",
    "for key in get_dict():\n",
    "    sum_of_frequencies += get_dict()[key]\n",
    "print(\"AVG K-anon = \", round(sum_of_frequencies / len(get_dict()), 2))"
   ],
   "metadata": {
    "collapsed": false
   }
  },
  {
   "cell_type": "code",
   "execution_count": 29,
   "id": "785fc074",
   "metadata": {},
   "outputs": [],
   "source": [
    "path = filename.split('.')[0] + 'anonymized.xlsx'\n",
    "\n",
    "if SAVE_ANON_FILE:\n",
    "    df.to_excel(path, index = False)"
   ]
  },
  {
   "cell_type": "code",
   "execution_count": null,
   "id": "2d396192",
   "metadata": {},
   "outputs": [],
   "source": [
    "df"
   ]
  },
  {
   "cell_type": "code",
   "execution_count": null,
   "id": "f9bced98",
   "metadata": {
    "pycharm": {
     "is_executing": true
    }
   },
   "outputs": [],
   "source": []
  }
 ],
 "metadata": {
  "kernelspec": {
   "display_name": "Python 3 (ipykernel)",
   "language": "python",
   "name": "python3"
  },
  "language_info": {
   "codemirror_mode": {
    "name": "ipython",
    "version": 3
   },
   "file_extension": ".py",
   "mimetype": "text/x-python",
   "name": "python",
   "nbconvert_exporter": "python",
   "pygments_lexer": "ipython3",
   "version": "3.9.12"
  }
 },
 "nbformat": 4,
 "nbformat_minor": 5
}
