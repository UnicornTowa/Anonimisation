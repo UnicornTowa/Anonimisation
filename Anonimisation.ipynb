{
 "cells": [
  {
   "cell_type": "code",
   "execution_count": 1,
   "id": "f9a2a588",
   "metadata": {},
   "outputs": [],
   "source": [
    "import pandas as pd"
   ]
  },
  {
   "cell_type": "code",
   "execution_count": 2,
   "id": "5abb7e94",
   "metadata": {},
   "outputs": [],
   "source": [
    "filename = 'dataset1m.xlsx'# <- filename\n",
    "df = pd.read_excel(filename)"
   ]
  },
  {
   "cell_type": "code",
   "execution_count": 3,
   "id": "a4e11661",
   "metadata": {},
   "outputs": [],
   "source": [
    "# Flags\n",
    "ANONIMIZE_JOBS = True\n",
    "ANONIMIZE_ADDRESS = True\n",
    "ANONIMIZE_SALARY = True\n",
    "DELETE_RARE_ATTRIBUTES = True\n",
    "SAVE_ANON_FILE = False"
   ]
  },
  {
   "cell_type": "code",
   "execution_count": 4,
   "id": "16e7eb43",
   "metadata": {
    "scrolled": true
   },
   "outputs": [],
   "source": [
    "def salary_local_generalization(x):\n",
    "    val = int(x)\n",
    "    if val > 100000:\n",
    "        return \"Very high\"\n",
    "    elif val > 75000:\n",
    "        return \"High\"\n",
    "    elif val > 55000:\n",
    "        return \"Mid\"\n",
    "    else:\n",
    "        return \"Low\"\n",
    "def del_col():\n",
    "    return '***'\n",
    "def addr_mask(x):\n",
    "    return x.split(\" д. \")[0] + ' ***'\n",
    "if ANONIMIZE_SALARY:\n",
    "    df[\"Заработная плата\"] = df[\"Заработная плата\"].apply(salary_local_generalization)\n",
    "\n",
    "# Прямой идентефикатор - всегда анонимизируем\n",
    "df[\"ФИО работника\"] = df[\"ФИО работника\"].apply(del_col)\n",
    "\n",
    "\n",
    "if ANONIMIZE_ADDRESS:\n",
    "    df[\"Адрес работы\"] = df[\"Адрес работы\"].apply(addr_mask)"
   ]
  },
  {
   "cell_type": "code",
   "execution_count": 5,
   "id": "69e5a307",
   "metadata": {},
   "outputs": [],
   "source": [
    "def func(x):\n",
    "    s = str(x)\n",
    "    if x == \"Административный директор\" or x == \"Директор по маркетингу\" or x == \"Финансовый директор\" or x == \"Генеральный директор\":\n",
    "        return \"Директор\"\n",
    "    elif x == \"Водитель\" or x == \"Комендант\" or x == \"Охранник\" or x == \"Уборщик\" or x == \"Секретарь\" or x == \"Бухгалтер\":\n",
    "        return \"Вспомогательный персонал\"\n",
    "    else:\n",
    "        return s\n",
    "\n",
    "if ANONIMIZE_JOBS:\n",
    "    df[\"Должность\"] = df[\"Должность\"].apply(func)"
   ]
  },
  {
   "cell_type": "code",
   "execution_count": 6,
   "id": "41d039f3",
   "metadata": {
    "scrolled": false
   },
   "outputs": [],
   "source": [
    "def func(x):\n",
    "    s = str(x)\n",
    "    if s == \"*\":\n",
    "        return s\n",
    "    elif int(s[1:4]) in [929, 921, 931]:\n",
    "        return \"Megafon\"\n",
    "    elif int(s[1:4]) in [911, 981]:\n",
    "        return \"MTS\"\n",
    "    elif int(s[1:4]) in [961, 962, 963, 964, 903, 905, 906, 909, 960]:\n",
    "        return \"Beeline\"\n",
    "    elif int(s[1:4]) in [901, 952, 904, 950, 951]:\n",
    "        return \"Tele2\"\n",
    "\n",
    "# Прямой идентефикатор - всега анонимизируем\n",
    "df[\"Номер телефона\"] = df[\"Номер телефона\"].apply(func)"
   ]
  },
  {
   "cell_type": "code",
   "execution_count": 7,
   "id": "549a1193",
   "metadata": {},
   "outputs": [],
   "source": [
    "def get_dict_and_k_anonimity():\n",
    "    mydictionary = {}\n",
    "    def getstrline(ind):\n",
    "        return str(df[\"ФИО работника\"].iloc[ind]) + str(df[\"Номер телефона\"].iloc[ind]) + str(df[\"Адрес работы\"].iloc[ind]) + str(df[\"Должность\"].iloc[ind]) + str(df[\"Заработная плата\"].iloc[ind])\n",
    "    for row in range(df.shape[0]):\n",
    "        s = getstrline(row)\n",
    "        if s in mydictionary:\n",
    "            mydictionary[s] += 1\n",
    "        else:\n",
    "            mydictionary[s] = 1\n",
    "    return mydictionary, min(mydictionary.values())"
   ]
  },
  {
   "cell_type": "code",
   "execution_count": 8,
   "id": "7aba85d7",
   "metadata": {},
   "outputs": [
    {
     "name": "stdout",
     "output_type": "stream",
     "text": [
      "Current k-anon =  3\n"
     ]
    }
   ],
   "source": [
    "mydict, k_anon = get_dict_and_k_anonimity()\n",
    "print(\"K-anon before deletion = \", k_anon)"
   ]
  },
  {
   "cell_type": "code",
   "execution_count": 9,
   "id": "5d7cb716",
   "metadata": {},
   "outputs": [
    {
     "name": "stdout",
     "output_type": "stream",
     "text": [
      "('***BeelineРеки Смоленки наб.ПрограммистVery high', 3)\n",
      "('***Beelineул. ВоронежскаяПрограммистHigh', 6)\n",
      "('***Tele2ул. ВоронежскаяПрограммистVery high', 6)\n",
      "('***Tele2Реки Смоленки наб.ПрограммистVery high', 7)\n",
      "('***BeelineДмитровский пер.ПрограммистHigh', 8)\n"
     ]
    }
   ],
   "source": [
    "sorted_mydict = sorted(mydict.items(), key=lambda x:x[1])\n",
    "for i in range(5):\n",
    "    print(sorted_mydict[i])"
   ]
  },
  {
   "cell_type": "code",
   "execution_count": 10,
   "id": "62536ca1",
   "metadata": {
    "scrolled": true
   },
   "outputs": [
    {
     "name": "stdout",
     "output_type": "stream",
     "text": [
      "3  lines need to be deleted to meet all requirements\n"
     ]
    }
   ],
   "source": [
    "df.astype(str).values.flatten().tolist()\n",
    "r = [''.join(val) for val in df.astype(str).values.tolist()]\n",
    "\n",
    "index = 0\n",
    "forDelete = []\n",
    "\n",
    "for index in range(df.shape[0]):\n",
    "    line = r[index]\n",
    "    if mydict[line] < 5:\n",
    "        #print(line, \">>\", index)\n",
    "        forDelete.append(index)\n",
    "    index+=1\n",
    "print(len(forDelete), \" lines need to be deleted to meet all requirements\")"
   ]
  },
  {
   "cell_type": "code",
   "execution_count": 11,
   "id": "625eea4b",
   "metadata": {},
   "outputs": [],
   "source": [
    "if DELETE_RARE_ATTRIBUTES:\n",
    "    df = df.drop(df.index[forDelete])"
   ]
  },
  {
   "cell_type": "code",
   "execution_count": 12,
   "id": "bb538fe9",
   "metadata": {},
   "outputs": [
    {
     "name": "stdout",
     "output_type": "stream",
     "text": [
      "After correction new k-anon =  6\n"
     ]
    }
   ],
   "source": [
    "new_dict, new_k_anon = get_dict_and_k_anonimity()\n",
    "print(\"After correction new k-anon = \", new_k_anon)"
   ]
  },
  {
   "cell_type": "code",
   "execution_count": 13,
   "id": "cff8676a",
   "metadata": {},
   "outputs": [
    {
     "name": "stdout",
     "output_type": "stream",
     "text": [
      "('***Beelineул. ВоронежскаяПрограммистHigh', 6)\n",
      "('***Tele2ул. ВоронежскаяПрограммистVery high', 6)\n",
      "('***Tele2Реки Смоленки наб.ПрограммистVery high', 7)\n",
      "('***BeelineДмитровский пер.ПрограммистHigh', 8)\n",
      "('***Beelineпр-кт ЗагородныйПрограммистVery high', 8)\n"
     ]
    }
   ],
   "source": [
    "sorted_new_dict = sorted(new_dict.items(), key=lambda x:x[1])\n",
    "for i in range(5):\n",
    "    print(sorted_new_dict[i])"
   ]
  },
  {
   "cell_type": "code",
   "execution_count": 14,
   "id": "785fc074",
   "metadata": {},
   "outputs": [],
   "source": [
    "path = filename.split('.')[0] + 'anonymized.xlsx'\n",
    "\n",
    "if SAVE_ANON_FILE:\n",
    "    df.to_excel(path, index = False)"
   ]
  },
  {
   "cell_type": "code",
   "execution_count": 15,
   "id": "2d396192",
   "metadata": {},
   "outputs": [
    {
     "data": {
      "text/html": [
       "<div>\n",
       "<style scoped>\n",
       "    .dataframe tbody tr th:only-of-type {\n",
       "        vertical-align: middle;\n",
       "    }\n",
       "\n",
       "    .dataframe tbody tr th {\n",
       "        vertical-align: top;\n",
       "    }\n",
       "\n",
       "    .dataframe thead th {\n",
       "        text-align: right;\n",
       "    }\n",
       "</style>\n",
       "<table border=\"1\" class=\"dataframe\">\n",
       "  <thead>\n",
       "    <tr style=\"text-align: right;\">\n",
       "      <th></th>\n",
       "      <th>ФИО работника</th>\n",
       "      <th>Номер телефона</th>\n",
       "      <th>Адрес работы</th>\n",
       "      <th>Должность</th>\n",
       "      <th>Заработная плата</th>\n",
       "    </tr>\n",
       "  </thead>\n",
       "  <tbody>\n",
       "    <tr>\n",
       "      <th>0</th>\n",
       "      <td>***</td>\n",
       "      <td>Megafon</td>\n",
       "      <td>ул. Чайковского</td>\n",
       "      <td>*</td>\n",
       "      <td>Low</td>\n",
       "    </tr>\n",
       "    <tr>\n",
       "      <th>1</th>\n",
       "      <td>***</td>\n",
       "      <td>Beeline</td>\n",
       "      <td>пр-кт Владимирский</td>\n",
       "      <td>*</td>\n",
       "      <td>Low</td>\n",
       "    </tr>\n",
       "    <tr>\n",
       "      <th>2</th>\n",
       "      <td>***</td>\n",
       "      <td>MTS</td>\n",
       "      <td>ул. Чайковского</td>\n",
       "      <td>*</td>\n",
       "      <td>Low</td>\n",
       "    </tr>\n",
       "    <tr>\n",
       "      <th>3</th>\n",
       "      <td>***</td>\n",
       "      <td>MTS</td>\n",
       "      <td>Павлоградский пер.</td>\n",
       "      <td>*</td>\n",
       "      <td>Low</td>\n",
       "    </tr>\n",
       "    <tr>\n",
       "      <th>4</th>\n",
       "      <td>***</td>\n",
       "      <td>Tele2</td>\n",
       "      <td>ул. Марата</td>\n",
       "      <td>*</td>\n",
       "      <td>Low</td>\n",
       "    </tr>\n",
       "    <tr>\n",
       "      <th>...</th>\n",
       "      <td>...</td>\n",
       "      <td>...</td>\n",
       "      <td>...</td>\n",
       "      <td>...</td>\n",
       "      <td>...</td>\n",
       "    </tr>\n",
       "    <tr>\n",
       "      <th>997490</th>\n",
       "      <td>***</td>\n",
       "      <td>MTS</td>\n",
       "      <td>ул. Камская</td>\n",
       "      <td>Инженер</td>\n",
       "      <td>Mid</td>\n",
       "    </tr>\n",
       "    <tr>\n",
       "      <th>997491</th>\n",
       "      <td>***</td>\n",
       "      <td>Beeline</td>\n",
       "      <td>Кузнечный пер.</td>\n",
       "      <td>Директор</td>\n",
       "      <td>High</td>\n",
       "    </tr>\n",
       "    <tr>\n",
       "      <th>997492</th>\n",
       "      <td>***</td>\n",
       "      <td>Megafon</td>\n",
       "      <td>2-я В.О. линия</td>\n",
       "      <td>Инженер</td>\n",
       "      <td>Low</td>\n",
       "    </tr>\n",
       "    <tr>\n",
       "      <th>997493</th>\n",
       "      <td>***</td>\n",
       "      <td>Megafon</td>\n",
       "      <td>ул. Маяковского</td>\n",
       "      <td>Вспомогательный персонал</td>\n",
       "      <td>Low</td>\n",
       "    </tr>\n",
       "    <tr>\n",
       "      <th>997494</th>\n",
       "      <td>***</td>\n",
       "      <td>Megafon</td>\n",
       "      <td>пр-кт Большой В.О.</td>\n",
       "      <td>Продавец</td>\n",
       "      <td>Low</td>\n",
       "    </tr>\n",
       "  </tbody>\n",
       "</table>\n",
       "<p>997492 rows × 5 columns</p>\n",
       "</div>"
      ],
      "text/plain": [
       "       ФИО работника Номер телефона        Адрес работы  \\\n",
       "0                ***        Megafon     ул. Чайковского   \n",
       "1                ***        Beeline  пр-кт Владимирский   \n",
       "2                ***            MTS     ул. Чайковского   \n",
       "3                ***            MTS  Павлоградский пер.   \n",
       "4                ***          Tele2          ул. Марата   \n",
       "...              ...            ...                 ...   \n",
       "997490           ***            MTS         ул. Камская   \n",
       "997491           ***        Beeline      Кузнечный пер.   \n",
       "997492           ***        Megafon      2-я В.О. линия   \n",
       "997493           ***        Megafon     ул. Маяковского   \n",
       "997494           ***        Megafon  пр-кт Большой В.О.   \n",
       "\n",
       "                       Должность Заработная плата  \n",
       "0                              *              Low  \n",
       "1                              *              Low  \n",
       "2                              *              Low  \n",
       "3                              *              Low  \n",
       "4                              *              Low  \n",
       "...                          ...              ...  \n",
       "997490                   Инженер              Mid  \n",
       "997491                  Директор             High  \n",
       "997492                   Инженер              Low  \n",
       "997493  Вспомогательный персонал              Low  \n",
       "997494                  Продавец              Low  \n",
       "\n",
       "[997492 rows x 5 columns]"
      ]
     },
     "execution_count": 15,
     "metadata": {},
     "output_type": "execute_result"
    }
   ],
   "source": [
    "df"
   ]
  },
  {
   "cell_type": "code",
   "execution_count": null,
   "id": "f9bced98",
   "metadata": {},
   "outputs": [],
   "source": []
  }
 ],
 "metadata": {
  "kernelspec": {
   "display_name": "Python 3 (ipykernel)",
   "language": "python",
   "name": "python3"
  },
  "language_info": {
   "codemirror_mode": {
    "name": "ipython",
    "version": 3
   },
   "file_extension": ".py",
   "mimetype": "text/x-python",
   "name": "python",
   "nbconvert_exporter": "python",
   "pygments_lexer": "ipython3",
   "version": "3.9.12"
  }
 },
 "nbformat": 4,
 "nbformat_minor": 5
}
