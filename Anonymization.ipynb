{
 "cells": [
  {
   "cell_type": "markdown",
   "source": [
    "# Dataset anonymization"
   ],
   "metadata": {
    "collapsed": false
   }
  },
  {
   "cell_type": "markdown",
   "source": [
    "##### Import lib for data-working"
   ],
   "metadata": {
    "collapsed": false
   }
  },
  {
   "cell_type": "code",
   "execution_count": 1,
   "outputs": [],
   "source": [
    "import pandas as pd"
   ],
   "metadata": {
    "collapsed": false
   }
  },
  {
   "cell_type": "markdown",
   "source": [
    "##### Read input file"
   ],
   "metadata": {
    "collapsed": false
   }
  },
  {
   "cell_type": "code",
   "execution_count": 2,
   "outputs": [
    {
     "data": {
      "text/plain": "                           ФИО работника  Номер телефона  \\\n0              Ильюшкин Салман Айратович     79312401293   \n1            Бровиков Хасан Валерьянович     79030995018   \n2                   Федчина Ия Рашадовна     79817186622   \n3             Кондраценка Лавс Октавович     79817317562   \n4        Просвиркина Настасья Аланусовна     79043309894   \n...                                  ...             ...   \n259994              Цыбасов Якун Авлович     79110050095   \n259995    Онопченко Никифор Всеволодович     79213525928   \n259996         Сысоев Тадеуш Терентиевич     79312334226   \n259997       Курзаков Аристарх Тарасович     79118108304   \n259998  Папанова Владимира Джанфранкична     79627220697   \n\n                                 Адрес работы             Должность  \\\n0                 ул. Чайковского д. 61 стр А  Генеральный директор   \n1              пр-кт Владимирский д. 10 стр А  Генеральный директор   \n2                 ул. Чайковского д. 81 стр А  Генеральный директор   \n3              Павлоградский пер. д. 3а стр 1  Генеральный директор   \n4                            ул. Марата д. 92  Генеральный директор   \n...                                       ...                   ...   \n259994         пр-кт Большой В.О. д. 67 стр А              Менеджер   \n259995  ул. Константина Заслонова д. 22 стр А               Инженер   \n259996          Павлоградский пер. д. 1 стр А   Финансовый директор   \n259997           пр-кт Загородный д. 42 стр В              Менеджер   \n259998              ул. Стремянная д. 5 стр А              Водитель   \n\n        Заработная плата  \n0                  84800  \n1                  86400  \n2                  81600  \n3                  81600  \n4                  86400  \n...                  ...  \n259994             53500  \n259995             30900  \n259996             98000  \n259997             45000  \n259998             55800  \n\n[259999 rows x 5 columns]",
      "text/html": "<div>\n<style scoped>\n    .dataframe tbody tr th:only-of-type {\n        vertical-align: middle;\n    }\n\n    .dataframe tbody tr th {\n        vertical-align: top;\n    }\n\n    .dataframe thead th {\n        text-align: right;\n    }\n</style>\n<table border=\"1\" class=\"dataframe\">\n  <thead>\n    <tr style=\"text-align: right;\">\n      <th></th>\n      <th>ФИО работника</th>\n      <th>Номер телефона</th>\n      <th>Адрес работы</th>\n      <th>Должность</th>\n      <th>Заработная плата</th>\n    </tr>\n  </thead>\n  <tbody>\n    <tr>\n      <th>0</th>\n      <td>Ильюшкин Салман Айратович</td>\n      <td>79312401293</td>\n      <td>ул. Чайковского д. 61 стр А</td>\n      <td>Генеральный директор</td>\n      <td>84800</td>\n    </tr>\n    <tr>\n      <th>1</th>\n      <td>Бровиков Хасан Валерьянович</td>\n      <td>79030995018</td>\n      <td>пр-кт Владимирский д. 10 стр А</td>\n      <td>Генеральный директор</td>\n      <td>86400</td>\n    </tr>\n    <tr>\n      <th>2</th>\n      <td>Федчина Ия Рашадовна</td>\n      <td>79817186622</td>\n      <td>ул. Чайковского д. 81 стр А</td>\n      <td>Генеральный директор</td>\n      <td>81600</td>\n    </tr>\n    <tr>\n      <th>3</th>\n      <td>Кондраценка Лавс Октавович</td>\n      <td>79817317562</td>\n      <td>Павлоградский пер. д. 3а стр 1</td>\n      <td>Генеральный директор</td>\n      <td>81600</td>\n    </tr>\n    <tr>\n      <th>4</th>\n      <td>Просвиркина Настасья Аланусовна</td>\n      <td>79043309894</td>\n      <td>ул. Марата д. 92</td>\n      <td>Генеральный директор</td>\n      <td>86400</td>\n    </tr>\n    <tr>\n      <th>...</th>\n      <td>...</td>\n      <td>...</td>\n      <td>...</td>\n      <td>...</td>\n      <td>...</td>\n    </tr>\n    <tr>\n      <th>259994</th>\n      <td>Цыбасов Якун Авлович</td>\n      <td>79110050095</td>\n      <td>пр-кт Большой В.О. д. 67 стр А</td>\n      <td>Менеджер</td>\n      <td>53500</td>\n    </tr>\n    <tr>\n      <th>259995</th>\n      <td>Онопченко Никифор Всеволодович</td>\n      <td>79213525928</td>\n      <td>ул. Константина Заслонова д. 22 стр А</td>\n      <td>Инженер</td>\n      <td>30900</td>\n    </tr>\n    <tr>\n      <th>259996</th>\n      <td>Сысоев Тадеуш Терентиевич</td>\n      <td>79312334226</td>\n      <td>Павлоградский пер. д. 1 стр А</td>\n      <td>Финансовый директор</td>\n      <td>98000</td>\n    </tr>\n    <tr>\n      <th>259997</th>\n      <td>Курзаков Аристарх Тарасович</td>\n      <td>79118108304</td>\n      <td>пр-кт Загородный д. 42 стр В</td>\n      <td>Менеджер</td>\n      <td>45000</td>\n    </tr>\n    <tr>\n      <th>259998</th>\n      <td>Папанова Владимира Джанфранкична</td>\n      <td>79627220697</td>\n      <td>ул. Стремянная д. 5 стр А</td>\n      <td>Водитель</td>\n      <td>55800</td>\n    </tr>\n  </tbody>\n</table>\n<p>259999 rows × 5 columns</p>\n</div>"
     },
     "execution_count": 2,
     "metadata": {},
     "output_type": "execute_result"
    }
   ],
   "source": [
    "filename = 'dataset259999.xlsx' # <- filename\n",
    "df = pd.read_excel(filename)\n",
    "df"
   ],
   "metadata": {
    "collapsed": false
   }
  },
  {
   "cell_type": "markdown",
   "source": [
    "##### Flags"
   ],
   "metadata": {
    "collapsed": false
   }
  },
  {
   "cell_type": "code",
   "execution_count": 3,
   "outputs": [],
   "source": [
    "ANON_JOBS = True; ANON_ADDRESS = True; ANON_SALARY = True\n",
    "LOCAL_SUPRESS = False; HIDE_ADDRESS = False; SAVE_ANON_FILE = False\n",
    "\n",
    "if LOCAL_SUPRESS:\n",
    "    REQUIRED_K_ANON = 5"
   ],
   "metadata": {
    "collapsed": false
   }
  },
  {
   "cell_type": "markdown",
   "source": [
    "##### Anonymization funcs"
   ],
   "metadata": {
    "collapsed": false
   }
  },
  {
   "cell_type": "code",
   "execution_count": 4,
   "id": "16e7eb43",
   "metadata": {
    "scrolled": true
   },
   "outputs": [],
   "source": [
    "# Salary anonymization\n",
    "def salary_local_generalization(x):\n",
    "    val = int(x)\n",
    "    k10 = val // 10000\n",
    "    return str(k10 * 10000) + '-' + str((k10 + 1) * 10000)\n",
    "\n",
    "# Name anonymize\n",
    "def del_attrib(x):\n",
    "    return '***'\n",
    "\n",
    "# Address anonymize\n",
    "vas_distr = [\"5-я В.О. линия\",\n",
    "\"8-я В.О. линия\",\n",
    "\"11-я В.О. линия\",\n",
    "\"ул. Камская\",\n",
    "\"9-я В.О. линия\",\n",
    "\"14-я В.О. линия\",\n",
    "\"пр-кт Средний В.О.\"\n",
    "\"4-я В.О. линия\",\n",
    "\"12-я В.О. линия\",\n",
    "\"2-я В.О. линия\",\n",
    "\"16-я В.О. линия\",\n",
    "\"3-я В.О. линия\",\n",
    "\"17-я В.О. линия\",\n",
    "\"10-я В.О. линия\",\n",
    "\"18-я В.О. линия\",\n",
    "\"15-я В.О. линия\",\n",
    "\"19-я В.О. линия\",\n",
    "\"Реки Смоленки наб.\"\n",
    "\"ул. Донская\",\n",
    "\"пр-кт Большой В.О.\",\n",
    "\"7-я В.О. линия\",\n",
    "\"13-я В.О. линия\",\n",
    "\"Макарова наб.\",\n",
    "\"6-я В.О. линия\",\n",
    "\"пр-кт Малый В.О.\"]\n",
    "def addr_local_generalization(x):\n",
    "    street = str(x.split(\" д. \")[0])\n",
    "    if street in vas_distr:\n",
    "        return 'Василеостровский'\n",
    "    else:\n",
    "        return 'Центральный'\n",
    "\n",
    "# Job anonymize\n",
    "def job_local_generalization(x):\n",
    "    s = str(x)\n",
    "    if x == \"Административный директор\" or x == \"Директор по маркетингу\" or x == \"Финансовый директор\" or x == \"Генеральный директор\":\n",
    "        return \"Директор\"\n",
    "    elif x == \"Водитель\" or x == \"Комендант\" or x == \"Охранник\" or x == \"Уборщик\" or x == \"Секретарь\" or x == \"Бухгалтер\":\n",
    "        return \"Вспомогательный персонал\"\n",
    "    else:\n",
    "        return s\n",
    "\n",
    "# Phone anonymize\n",
    "def phone_local_generalization(x):\n",
    "    s = str(x)\n",
    "    if int(s[1:4]) in [929, 921, 931]:\n",
    "        return \"Megafon\"\n",
    "    elif int(s[1:4]) in [911, 981]:\n",
    "        return \"MTS\"\n",
    "    elif int(s[1:4]) in [961, 962, 963, 964, 903, 905, 906, 909, 960]:\n",
    "        return \"Beeline\"\n",
    "    elif int(s[1:4]) in [901, 952, 904, 950, 951]:\n",
    "        return \"Tele2\"\n",
    "\n",
    "if ANON_SALARY:\n",
    "    df[\"Заработная плата\"] = df[\"Заработная плата\"].apply(salary_local_generalization)\n",
    "\n",
    "# Direct identifier - always anonymize\n",
    "df[\"ФИО работника\"] = df[\"ФИО работника\"].apply(del_attrib)\n",
    "\n",
    "\n",
    "if ANON_ADDRESS:\n",
    "    df[\"Адрес работы\"] = df[\"Адрес работы\"].apply(addr_local_generalization)\n",
    "\n",
    "if ANON_JOBS:\n",
    "    df[\"Должность\"] = df[\"Должность\"].apply(job_local_generalization)\n",
    "\n",
    "if HIDE_ADDRESS:\n",
    "    df[\"Адрес работы\"] = df[\"Адрес работы\"].apply(del_attrib)\n",
    "# Direct identifier - always anonymize\n",
    "df[\"Номер телефона\"] = df[\"Номер телефона\"].apply(phone_local_generalization)"
   ]
  },
  {
   "cell_type": "markdown",
   "source": [
    "#### Get dictionary [field : frequency] and k-anonymity"
   ],
   "metadata": {
    "collapsed": false
   }
  },
  {
   "cell_type": "code",
   "execution_count": 5,
   "id": "549a1193",
   "metadata": {},
   "outputs": [],
   "source": [
    "def get_dict_and_k_anonimity():\n",
    "    # my_dictionary is used to count k-anonymity\n",
    "    my_dictionary = {}\n",
    "    # key is concatenated row\n",
    "    def get_row_as_string(ind):\n",
    "        return str(df[\"ФИО работника\"].iloc[ind]) +\\\n",
    "               str(df[\"Номер телефона\"].iloc[ind]) +\\\n",
    "               str(df[\"Адрес работы\"].iloc[ind]) +\\\n",
    "               str(df[\"Должность\"].iloc[ind]) +\\\n",
    "               str(df[\"Заработная плата\"].iloc[ind])\n",
    "    for row in range(df.shape[0]):\n",
    "        s = get_row_as_string(row)\n",
    "        if s in my_dictionary:\n",
    "            my_dictionary[s] += 1\n",
    "        else:\n",
    "            my_dictionary[s] = 1\n",
    "    return my_dictionary, min(my_dictionary.values())"
   ]
  },
  {
   "cell_type": "markdown",
   "source": [
    "##### List of strings of each row"
   ],
   "metadata": {
    "collapsed": false
   }
  },
  {
   "cell_type": "code",
   "execution_count": 6,
   "outputs": [],
   "source": [
    "# return list of rows as single string\n",
    "strings = [''.join(val) for val in df.astype(str).values.tolist()]"
   ],
   "metadata": {
    "collapsed": false
   }
  },
  {
   "cell_type": "markdown",
   "source": [
    "#### Output"
   ],
   "metadata": {
    "collapsed": false
   }
  },
  {
   "cell_type": "code",
   "execution_count": 7,
   "id": "7aba85d7",
   "metadata": {},
   "outputs": [
    {
     "name": "stdout",
     "output_type": "stream",
     "text": [
      "k-anonymity =  11\n",
      "Unique rows: 328\n",
      "5 least frequent rows:\n"
     ]
    },
    {
     "data": {
      "text/plain": "      ФИО работника Номер телефона      Адрес работы    Должность  \\\n89478           ***          Tele2  Василеостровский  Программист   \n679             ***        Beeline  Василеостровский  Программист   \n14979           ***            MTS  Василеостровский  Программист   \n34929           ***        Beeline       Центральный  Программист   \n18045           ***          Tele2  Василеостровский     Директор   \n\n      Заработная плата  \n89478    110000-120000  \n679      110000-120000  \n14979    110000-120000  \n34929    110000-120000  \n18045    110000-120000  ",
      "text/html": "<div>\n<style scoped>\n    .dataframe tbody tr th:only-of-type {\n        vertical-align: middle;\n    }\n\n    .dataframe tbody tr th {\n        vertical-align: top;\n    }\n\n    .dataframe thead th {\n        text-align: right;\n    }\n</style>\n<table border=\"1\" class=\"dataframe\">\n  <thead>\n    <tr style=\"text-align: right;\">\n      <th></th>\n      <th>ФИО работника</th>\n      <th>Номер телефона</th>\n      <th>Адрес работы</th>\n      <th>Должность</th>\n      <th>Заработная плата</th>\n    </tr>\n  </thead>\n  <tbody>\n    <tr>\n      <th>89478</th>\n      <td>***</td>\n      <td>Tele2</td>\n      <td>Василеостровский</td>\n      <td>Программист</td>\n      <td>110000-120000</td>\n    </tr>\n    <tr>\n      <th>679</th>\n      <td>***</td>\n      <td>Beeline</td>\n      <td>Василеостровский</td>\n      <td>Программист</td>\n      <td>110000-120000</td>\n    </tr>\n    <tr>\n      <th>14979</th>\n      <td>***</td>\n      <td>MTS</td>\n      <td>Василеостровский</td>\n      <td>Программист</td>\n      <td>110000-120000</td>\n    </tr>\n    <tr>\n      <th>34929</th>\n      <td>***</td>\n      <td>Beeline</td>\n      <td>Центральный</td>\n      <td>Программист</td>\n      <td>110000-120000</td>\n    </tr>\n    <tr>\n      <th>18045</th>\n      <td>***</td>\n      <td>Tele2</td>\n      <td>Василеостровский</td>\n      <td>Директор</td>\n      <td>110000-120000</td>\n    </tr>\n  </tbody>\n</table>\n</div>"
     },
     "metadata": {},
     "output_type": "display_data"
    },
    {
     "name": "stdout",
     "output_type": "stream",
     "text": [
      "Frequencies :  [11, 17, 22, 26, 38]\n"
     ]
    }
   ],
   "source": [
    "mydict, k_anon = get_dict_and_k_anonimity()\n",
    "\n",
    "print(\"k-anonymity = \", k_anon)\n",
    "\n",
    "# sorted dictionary = list of tuples as [(key, value) for key,value in dict]\n",
    "sorted_mydict = sorted(mydict.items(), key=lambda x:x[1])\n",
    "print(\"Unique rows:\", len(mydict))\n",
    "print(\"5 least frequent rows:\")\n",
    "\n",
    "# line below extracts from dataframe 5 least frequent lines (because the corresponding keys are strings) and display them as dataframe\n",
    "display(df.loc[[strings.index(sorted_mydict[i][0]) for i in range(5)]])\n",
    "print(\"Frequencies : \", [sorted_mydict[i][1] for i in range(5)])"
   ]
  },
  {
   "cell_type": "markdown",
   "source": [
    "##### Local suppress"
   ],
   "metadata": {
    "collapsed": false
   }
  },
  {
   "cell_type": "code",
   "execution_count": 8,
   "id": "62536ca1",
   "metadata": {
    "scrolled": true
   },
   "outputs": [],
   "source": [
    "if LOCAL_SUPRESS:\n",
    "    forDelete = []\n",
    "\n",
    "    for index in range(df.shape[0]):\n",
    "        line = strings[index]\n",
    "        if mydict[line] < REQUIRED_K_ANON:\n",
    "            #print(line, \">>\", index)\n",
    "            forDelete.append(index)\n",
    "    print(len(forDelete), \" lines need to be suppressed to meet all requirements\")"
   ]
  },
  {
   "cell_type": "markdown",
   "source": [
    "#### Output after local suppress"
   ],
   "metadata": {
    "collapsed": false
   }
  },
  {
   "cell_type": "code",
   "execution_count": 9,
   "id": "625eea4b",
   "metadata": {},
   "outputs": [],
   "source": [
    "if LOCAL_SUPRESS:\n",
    "    df = df.drop(df.index[forDelete])\n",
    "    new_dict, new_k_anon = get_dict_and_k_anonimity()\n",
    "    print(\"New k-anon = \", new_k_anon)\n",
    "    print(\"New unique rows:\", len(new_dict))\n",
    "    sorted_new_dict = sorted(new_dict.items(), key=lambda x:x[1])\n",
    "    strings = [''.join(val) for val in df.astype(str).values.tolist()]\n",
    "    print(\"New 5 least frequent rows:\")\n",
    "    display(df.loc[[strings.index(sorted_new_dict[i][0]) for i in range(5)]])\n",
    "    print(\"Frequencies : \", [sorted_new_dict[i][1] for i in range(5)])"
   ]
  },
  {
   "cell_type": "markdown",
   "source": [
    "##### AVG k-anonymity calculation"
   ],
   "metadata": {
    "collapsed": false
   }
  },
  {
   "cell_type": "code",
   "execution_count": 10,
   "outputs": [
    {
     "name": "stdout",
     "output_type": "stream",
     "text": [
      "AVG k-anonymity =  792.68\n"
     ]
    }
   ],
   "source": [
    "sum_of_frequencies = 0\n",
    "def get_dict():\n",
    "    if LOCAL_SUPRESS:\n",
    "        return new_dict\n",
    "    else:\n",
    "        return mydict\n",
    "for key in get_dict():\n",
    "    sum_of_frequencies += get_dict()[key]\n",
    "print(\"AVG k-anonymity = \", round(sum_of_frequencies / len(get_dict()), 2))"
   ],
   "metadata": {
    "collapsed": false
   }
  },
  {
   "cell_type": "markdown",
   "source": [
    "### Anonymized dataset"
   ],
   "metadata": {
    "collapsed": false
   }
  },
  {
   "cell_type": "code",
   "execution_count": 11,
   "outputs": [
    {
     "data": {
      "text/plain": "       ФИО работника Номер телефона      Адрес работы  \\\n0                ***        Megafon       Центральный   \n1                ***        Beeline       Центральный   \n2                ***            MTS       Центральный   \n3                ***            MTS       Центральный   \n4                ***          Tele2       Центральный   \n...              ...            ...               ...   \n259994           ***            MTS  Василеостровский   \n259995           ***        Megafon       Центральный   \n259996           ***        Megafon       Центральный   \n259997           ***            MTS       Центральный   \n259998           ***        Beeline       Центральный   \n\n                       Должность Заработная плата  \n0                       Директор      80000-90000  \n1                       Директор      80000-90000  \n2                       Директор      80000-90000  \n3                       Директор      80000-90000  \n4                       Директор      80000-90000  \n...                          ...              ...  \n259994                  Менеджер      50000-60000  \n259995                   Инженер      30000-40000  \n259996                  Директор     90000-100000  \n259997                  Менеджер      40000-50000  \n259998  Вспомогательный персонал      50000-60000  \n\n[259999 rows x 5 columns]",
      "text/html": "<div>\n<style scoped>\n    .dataframe tbody tr th:only-of-type {\n        vertical-align: middle;\n    }\n\n    .dataframe tbody tr th {\n        vertical-align: top;\n    }\n\n    .dataframe thead th {\n        text-align: right;\n    }\n</style>\n<table border=\"1\" class=\"dataframe\">\n  <thead>\n    <tr style=\"text-align: right;\">\n      <th></th>\n      <th>ФИО работника</th>\n      <th>Номер телефона</th>\n      <th>Адрес работы</th>\n      <th>Должность</th>\n      <th>Заработная плата</th>\n    </tr>\n  </thead>\n  <tbody>\n    <tr>\n      <th>0</th>\n      <td>***</td>\n      <td>Megafon</td>\n      <td>Центральный</td>\n      <td>Директор</td>\n      <td>80000-90000</td>\n    </tr>\n    <tr>\n      <th>1</th>\n      <td>***</td>\n      <td>Beeline</td>\n      <td>Центральный</td>\n      <td>Директор</td>\n      <td>80000-90000</td>\n    </tr>\n    <tr>\n      <th>2</th>\n      <td>***</td>\n      <td>MTS</td>\n      <td>Центральный</td>\n      <td>Директор</td>\n      <td>80000-90000</td>\n    </tr>\n    <tr>\n      <th>3</th>\n      <td>***</td>\n      <td>MTS</td>\n      <td>Центральный</td>\n      <td>Директор</td>\n      <td>80000-90000</td>\n    </tr>\n    <tr>\n      <th>4</th>\n      <td>***</td>\n      <td>Tele2</td>\n      <td>Центральный</td>\n      <td>Директор</td>\n      <td>80000-90000</td>\n    </tr>\n    <tr>\n      <th>...</th>\n      <td>...</td>\n      <td>...</td>\n      <td>...</td>\n      <td>...</td>\n      <td>...</td>\n    </tr>\n    <tr>\n      <th>259994</th>\n      <td>***</td>\n      <td>MTS</td>\n      <td>Василеостровский</td>\n      <td>Менеджер</td>\n      <td>50000-60000</td>\n    </tr>\n    <tr>\n      <th>259995</th>\n      <td>***</td>\n      <td>Megafon</td>\n      <td>Центральный</td>\n      <td>Инженер</td>\n      <td>30000-40000</td>\n    </tr>\n    <tr>\n      <th>259996</th>\n      <td>***</td>\n      <td>Megafon</td>\n      <td>Центральный</td>\n      <td>Директор</td>\n      <td>90000-100000</td>\n    </tr>\n    <tr>\n      <th>259997</th>\n      <td>***</td>\n      <td>MTS</td>\n      <td>Центральный</td>\n      <td>Менеджер</td>\n      <td>40000-50000</td>\n    </tr>\n    <tr>\n      <th>259998</th>\n      <td>***</td>\n      <td>Beeline</td>\n      <td>Центральный</td>\n      <td>Вспомогательный персонал</td>\n      <td>50000-60000</td>\n    </tr>\n  </tbody>\n</table>\n<p>259999 rows × 5 columns</p>\n</div>"
     },
     "execution_count": 11,
     "metadata": {},
     "output_type": "execute_result"
    }
   ],
   "source": [
    "df"
   ],
   "metadata": {
    "collapsed": false
   }
  },
  {
   "cell_type": "markdown",
   "source": [
    "#### Save anonymized dataset as .xlsx"
   ],
   "metadata": {
    "collapsed": false
   }
  },
  {
   "cell_type": "code",
   "execution_count": 12,
   "id": "785fc074",
   "metadata": {},
   "outputs": [],
   "source": [
    "path = filename.split('.')[0] + 'anonymized.xlsx'\n",
    "\n",
    "if SAVE_ANON_FILE:\n",
    "    df.to_excel(path, index = False)"
   ]
  }
 ],
 "metadata": {
  "kernelspec": {
   "display_name": "Python 3 (ipykernel)",
   "language": "python",
   "name": "python3"
  },
  "language_info": {
   "codemirror_mode": {
    "name": "ipython",
    "version": 3
   },
   "file_extension": ".py",
   "mimetype": "text/x-python",
   "name": "python",
   "nbconvert_exporter": "python",
   "pygments_lexer": "ipython3",
   "version": "3.9.12"
  }
 },
 "nbformat": 4,
 "nbformat_minor": 5
}
